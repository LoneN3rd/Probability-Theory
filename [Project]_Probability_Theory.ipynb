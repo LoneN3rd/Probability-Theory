{
  "nbformat": 4,
  "nbformat_minor": 0,
  "metadata": {
    "colab": {
      "name": "[Project]: Probability Theory",
      "provenance": [],
      "collapsed_sections": [],
      "toc_visible": true
    },
    "kernelspec": {
      "name": "python3",
      "display_name": "Python 3"
    },
    "language_info": {
      "name": "python"
    }
  },
  "cells": [
    {
      "cell_type": "markdown",
      "source": [
        "# Probability Theory"
      ],
      "metadata": {
        "id": "pB0BzCAEyS7u"
      }
    },
    {
      "cell_type": "markdown",
      "source": [
        "## 1. Introduction"
      ],
      "metadata": {
        "id": "v0hSZ5H6yXMY"
      }
    },
    {
      "cell_type": "markdown",
      "source": [
        "In this project, however, we work to contribute to the development of a mobile app that is meant to help lottery addicts better estimate their chances of winning.\n",
        "\n",
        "Many people start playing the lottery for fun, but for some this activity turns into a habit which eventually escalates into addiction. Like other compulsive gamblers, lottery addicts soon begin spending from their savings and loans, they start to accumulate debts, and eventually engage in desperate behaviors like theft.\n",
        "\n",
        "A medical institute that aims to prevent and treat gambling addictions wants to build a dedicated mobile app to help lottery addicts better estimate their chances of winning. The institute has a team of engineers that will build the app, but they need us to create the logical core of the app and calculate probabilities.\n",
        "\n",
        "For the first version of the app, they want us to focus on the 6/49 lottery and build functions that enable users to answer questions like:\n",
        "\n",
        "* What is the probability of winning the big prize with a single ticket?\n",
        "* What is the probability of winning the big prize if we play 40 different tickets (or any other number)?\n",
        "* What is the probability of having at least five (or four, or three, or two) winning numbers on a single ticket?\n",
        "\n",
        "The institute also wants us to consider historical data coming from the national 6/49 lottery game in Canada. The data set (https://bit.ly/3dDaWQj) has data for 3,665 drawings, dating from 1982 to 2018.\n",
        "\n",
        "The scenario we're following throughout this project is fictional — the main purpose is to practice applying the concepts in a setting that simulates a real-world scenario."
      ],
      "metadata": {
        "id": "ehzs3mbXyYnd"
      }
    },
    {
      "cell_type": "markdown",
      "source": [
        "## 2. Core Functions"
      ],
      "metadata": {
        "id": "aaWPTVSH1vWD"
      }
    },
    {
      "cell_type": "markdown",
      "source": [
        "Our goal is to write code that can enable users to answer probability questions about playing the lottery. Throughout the project, we'll need to calculate repeatedly probabilities and combinations. \n",
        "\n",
        "We'll start by writing two functions that we'll use often: A function that calculates factorials; and A function that calculates combinations.\n",
        "\n",
        "To calculate factorials, we'll use:\n",
        "\n",
        "```\n",
        "n!=n×(n−1)×(n−2)×...×2×1\n",
        "```\n",
        "\n",
        "In the 6/49 lottery, six numbers are drawn from a set of 49 numbers that range from 1 to 49. The drawing is done without replacement, which means once a number is drawn, it's not put back in the set.\n",
        "\n",
        "To find the number of combinations when we're sampling without replacement and taking only k objects from a group of n objects, we can use the formula. \n",
        "\n",
        "```\n",
        "n! / ((n-k)! * k!)\n",
        "```\n",
        "\n",
        "Now let's start coding the two functions."
      ],
      "metadata": {
        "id": "8xOOPG0N16Nn"
      }
    },
    {
      "cell_type": "markdown",
      "source": [
        "Factorial function: takes *a number n as input* and computes the factorial of that number n"
      ],
      "metadata": {
        "id": "hITJwLzTxdNP"
      }
    },
    {
      "cell_type": "code",
      "source": [
        "def factorial(n):\n",
        "\n",
        "  n_factorial = 1\n",
        "\n",
        "  for i in range(n, 0, -1):\n",
        "    n_factorial *=i\n",
        "\n",
        "  return n_factorial\n",
        "\n",
        "print(factorial(3))"
      ],
      "metadata": {
        "id": "NuSGK-552bQs",
        "colab": {
          "base_uri": "https://localhost:8080/"
        },
        "outputId": "a4005b5e-05f7-4bdd-c9ac-3ac91c02e98c"
      },
      "execution_count": null,
      "outputs": [
        {
          "output_type": "stream",
          "name": "stdout",
          "text": [
            "6\n"
          ]
        }
      ]
    },
    {
      "cell_type": "markdown",
      "source": [
        "Combinations function: takes in two inputs (n and k) and outputs the number of combinations when we're taking only k objects from a group of n objects"
      ],
      "metadata": {
        "id": "nOBtJv7dxuUd"
      }
    },
    {
      "cell_type": "code",
      "source": [
        "def combinations(n, k):\n",
        "  return factorial(n) / (factorial(k) * factorial(n-k))\n",
        "\n",
        "print(combinations(4, 2))"
      ],
      "metadata": {
        "colab": {
          "base_uri": "https://localhost:8080/"
        },
        "id": "iMOneuZnytbH",
        "outputId": "36335a4f-77dd-4520-f041-fee81abaa026"
      },
      "execution_count": 118,
      "outputs": [
        {
          "output_type": "stream",
          "name": "stdout",
          "text": [
            "6.0\n"
          ]
        }
      ]
    },
    {
      "cell_type": "markdown",
      "source": [
        "## 3. One-ticket Probability"
      ],
      "metadata": {
        "id": "aFEVgn-02dXz"
      }
    },
    {
      "cell_type": "markdown",
      "source": [
        "We'll now focus on writing a function that calculates the probability of winning the big prize.\n",
        "\n",
        "In the 6/49 lottery, six numbers are drawn from a set of 49 numbers that range from 1 to 49. A player wins the big prize if the six numbers on their tickets match all the six numbers drawn. If a player has a ticket with the numbers {13, 22, 24, 27, 42, 44}, he only wins the big prize if the numbers drawn are {13, 22, 24, 27, 42, 44}. If only one number differs, he doesn't win.\n",
        "\n",
        "For the first version of the app, we want players to be able to calculate the probability of winning the big prize with the various numbers they play on a single ticket (for each ticket a player chooses six numbers out of 49). So, we'll start by building a function that calculates the probability of winning the big prize for any given ticket.\n",
        "\n",
        "While writing the function, we need to be aware of the following details:\n",
        "\n",
        "* Inside the app, the user inputs six different numbers from 1 to 49.\n",
        "* Under the hood, the six numbers will come as a Python list, which will serve as the single input to our function.\n",
        "* The engineering team wants the function to print the probability value in a friendly way — in a way that people without any probability training are able to understand.\n",
        "\n",
        "Let's write this function!"
      ],
      "metadata": {
        "id": "JQi_VEOY2gU3"
      }
    },
    {
      "cell_type": "markdown",
      "source": [
        "Function to calculate the probability of winning the big prize with a single ticket"
      ],
      "metadata": {
        "id": "JGYuItiBWImg"
      }
    },
    {
      "cell_type": "code",
      "source": [
        "# takes in a list of six unique numbers and prints the probability of winning\n",
        "def one_ticket_probability(ticket_numbers):\n",
        "  \n",
        "  # calculate total number of possible outcomes\n",
        "  possible_combinations = combinations(49, 6)\n",
        "\n",
        "  # calculate the probability of winning\n",
        "  probability_of_winning = 1 / possible_combinations\n",
        "  \n",
        "  print('Probability of winning with ticket {} is {:.2}%'.format(ticket_numbers, probability_of_winning))"
      ],
      "metadata": {
        "id": "-zFCSH2R3DN2"
      },
      "execution_count": 154,
      "outputs": []
    },
    {
      "cell_type": "code",
      "source": [
        "one_ticket_probability([13, 22, 24, 27, 42, 44])"
      ],
      "metadata": {
        "colab": {
          "base_uri": "https://localhost:8080/"
        },
        "id": "Yt2nON93vqWF",
        "outputId": "ac8b9b59-154a-4bbc-89de-e77e2b512740"
      },
      "execution_count": 155,
      "outputs": [
        {
          "output_type": "stream",
          "name": "stdout",
          "text": [
            "Probability of winning with ticket [13, 22, 24, 27, 42, 44] is 7.2e-08%\n"
          ]
        }
      ]
    },
    {
      "cell_type": "markdown",
      "source": [
        "## 4. Historical Data Check for Canada Lottery"
      ],
      "metadata": {
        "id": "21QYEfb93GMo"
      }
    },
    {
      "cell_type": "markdown",
      "source": [
        "We've written a function that can tell users what is the probability of winning the big prize with a single ticket. For the first version of the app, however, users should also be able to compare their ticket against the historical lottery data in Canada and determine whether they would have ever won by now.\n",
        "\n",
        "Next, we'll focus on exploring the historical data coming from the Canada 6/49 lottery.\n",
        "\n",
        "The data set contains historical data for 3,665 drawings (each row shows data for a single drawing), dating from 1982 to 2018. For each drawing, we can find the six numbers drawn in the following six columns:\n",
        "\n",
        "* `NUMBER DRAWN 1`\n",
        "* `NUMBER DRAWN 2`\n",
        "* `NUMBER DRAWN 3`\n",
        "* `NUMBER DRAWN 4`\n",
        "* `NUMBER DRAWN 5`\n",
        "* `NUMBER DRAWN 6`"
      ],
      "metadata": {
        "id": "nBAD--X23KmJ"
      }
    },
    {
      "cell_type": "markdown",
      "source": [
        "Load Dataset"
      ],
      "metadata": {
        "id": "RzU2MKVa7JHU"
      }
    },
    {
      "cell_type": "code",
      "source": [
        "import pandas as pd\n",
        "\n",
        "df = pd.read_csv('/content/649.csv')"
      ],
      "metadata": {
        "id": "Yu8ry4n_3qYK"
      },
      "execution_count": null,
      "outputs": []
    },
    {
      "cell_type": "markdown",
      "source": [
        "Check the shape"
      ],
      "metadata": {
        "id": "GvxKMc9P7LT7"
      }
    },
    {
      "cell_type": "code",
      "source": [
        "df.shape"
      ],
      "metadata": {
        "colab": {
          "base_uri": "https://localhost:8080/"
        },
        "id": "YLmsksdz65pR",
        "outputId": "052fbebe-bd37-49b9-d2bf-bdc2e73a60e9"
      },
      "execution_count": null,
      "outputs": [
        {
          "output_type": "execute_result",
          "data": {
            "text/plain": [
              "(3665, 11)"
            ]
          },
          "metadata": {},
          "execution_count": 33
        }
      ]
    },
    {
      "cell_type": "markdown",
      "source": [
        "Preview the first 3 rows"
      ],
      "metadata": {
        "id": "ld6fLoSs7N8K"
      }
    },
    {
      "cell_type": "code",
      "source": [
        "df.head(3)"
      ],
      "metadata": {
        "colab": {
          "base_uri": "https://localhost:8080/",
          "height": 205
        },
        "id": "y_LuM0kn63v1",
        "outputId": "a0f2cbd9-2b8b-415f-9308-2e3971b43d8b"
      },
      "execution_count": null,
      "outputs": [
        {
          "output_type": "execute_result",
          "data": {
            "text/plain": [
              "   PRODUCT  DRAW NUMBER  SEQUENCE NUMBER  DRAW DATE  NUMBER DRAWN 1  \\\n",
              "0      649            1                0  6/12/1982               3   \n",
              "1      649            2                0  6/19/1982               8   \n",
              "2      649            3                0  6/26/1982               1   \n",
              "\n",
              "   NUMBER DRAWN 2  NUMBER DRAWN 3  NUMBER DRAWN 4  NUMBER DRAWN 5  \\\n",
              "0              11              12              14              41   \n",
              "1              33              36              37              39   \n",
              "2               6              23              24              27   \n",
              "\n",
              "   NUMBER DRAWN 6  BONUS NUMBER  \n",
              "0              43            13  \n",
              "1              41             9  \n",
              "2              39            34  "
            ],
            "text/html": [
              "\n",
              "  <div id=\"df-015e1a7b-d68b-4053-8f65-399ed599c5e7\">\n",
              "    <div class=\"colab-df-container\">\n",
              "      <div>\n",
              "<style scoped>\n",
              "    .dataframe tbody tr th:only-of-type {\n",
              "        vertical-align: middle;\n",
              "    }\n",
              "\n",
              "    .dataframe tbody tr th {\n",
              "        vertical-align: top;\n",
              "    }\n",
              "\n",
              "    .dataframe thead th {\n",
              "        text-align: right;\n",
              "    }\n",
              "</style>\n",
              "<table border=\"1\" class=\"dataframe\">\n",
              "  <thead>\n",
              "    <tr style=\"text-align: right;\">\n",
              "      <th></th>\n",
              "      <th>PRODUCT</th>\n",
              "      <th>DRAW NUMBER</th>\n",
              "      <th>SEQUENCE NUMBER</th>\n",
              "      <th>DRAW DATE</th>\n",
              "      <th>NUMBER DRAWN 1</th>\n",
              "      <th>NUMBER DRAWN 2</th>\n",
              "      <th>NUMBER DRAWN 3</th>\n",
              "      <th>NUMBER DRAWN 4</th>\n",
              "      <th>NUMBER DRAWN 5</th>\n",
              "      <th>NUMBER DRAWN 6</th>\n",
              "      <th>BONUS NUMBER</th>\n",
              "    </tr>\n",
              "  </thead>\n",
              "  <tbody>\n",
              "    <tr>\n",
              "      <th>0</th>\n",
              "      <td>649</td>\n",
              "      <td>1</td>\n",
              "      <td>0</td>\n",
              "      <td>6/12/1982</td>\n",
              "      <td>3</td>\n",
              "      <td>11</td>\n",
              "      <td>12</td>\n",
              "      <td>14</td>\n",
              "      <td>41</td>\n",
              "      <td>43</td>\n",
              "      <td>13</td>\n",
              "    </tr>\n",
              "    <tr>\n",
              "      <th>1</th>\n",
              "      <td>649</td>\n",
              "      <td>2</td>\n",
              "      <td>0</td>\n",
              "      <td>6/19/1982</td>\n",
              "      <td>8</td>\n",
              "      <td>33</td>\n",
              "      <td>36</td>\n",
              "      <td>37</td>\n",
              "      <td>39</td>\n",
              "      <td>41</td>\n",
              "      <td>9</td>\n",
              "    </tr>\n",
              "    <tr>\n",
              "      <th>2</th>\n",
              "      <td>649</td>\n",
              "      <td>3</td>\n",
              "      <td>0</td>\n",
              "      <td>6/26/1982</td>\n",
              "      <td>1</td>\n",
              "      <td>6</td>\n",
              "      <td>23</td>\n",
              "      <td>24</td>\n",
              "      <td>27</td>\n",
              "      <td>39</td>\n",
              "      <td>34</td>\n",
              "    </tr>\n",
              "  </tbody>\n",
              "</table>\n",
              "</div>\n",
              "      <button class=\"colab-df-convert\" onclick=\"convertToInteractive('df-015e1a7b-d68b-4053-8f65-399ed599c5e7')\"\n",
              "              title=\"Convert this dataframe to an interactive table.\"\n",
              "              style=\"display:none;\">\n",
              "        \n",
              "  <svg xmlns=\"http://www.w3.org/2000/svg\" height=\"24px\"viewBox=\"0 0 24 24\"\n",
              "       width=\"24px\">\n",
              "    <path d=\"M0 0h24v24H0V0z\" fill=\"none\"/>\n",
              "    <path d=\"M18.56 5.44l.94 2.06.94-2.06 2.06-.94-2.06-.94-.94-2.06-.94 2.06-2.06.94zm-11 1L8.5 8.5l.94-2.06 2.06-.94-2.06-.94L8.5 2.5l-.94 2.06-2.06.94zm10 10l.94 2.06.94-2.06 2.06-.94-2.06-.94-.94-2.06-.94 2.06-2.06.94z\"/><path d=\"M17.41 7.96l-1.37-1.37c-.4-.4-.92-.59-1.43-.59-.52 0-1.04.2-1.43.59L10.3 9.45l-7.72 7.72c-.78.78-.78 2.05 0 2.83L4 21.41c.39.39.9.59 1.41.59.51 0 1.02-.2 1.41-.59l7.78-7.78 2.81-2.81c.8-.78.8-2.07 0-2.86zM5.41 20L4 18.59l7.72-7.72 1.47 1.35L5.41 20z\"/>\n",
              "  </svg>\n",
              "      </button>\n",
              "      \n",
              "  <style>\n",
              "    .colab-df-container {\n",
              "      display:flex;\n",
              "      flex-wrap:wrap;\n",
              "      gap: 12px;\n",
              "    }\n",
              "\n",
              "    .colab-df-convert {\n",
              "      background-color: #E8F0FE;\n",
              "      border: none;\n",
              "      border-radius: 50%;\n",
              "      cursor: pointer;\n",
              "      display: none;\n",
              "      fill: #1967D2;\n",
              "      height: 32px;\n",
              "      padding: 0 0 0 0;\n",
              "      width: 32px;\n",
              "    }\n",
              "\n",
              "    .colab-df-convert:hover {\n",
              "      background-color: #E2EBFA;\n",
              "      box-shadow: 0px 1px 2px rgba(60, 64, 67, 0.3), 0px 1px 3px 1px rgba(60, 64, 67, 0.15);\n",
              "      fill: #174EA6;\n",
              "    }\n",
              "\n",
              "    [theme=dark] .colab-df-convert {\n",
              "      background-color: #3B4455;\n",
              "      fill: #D2E3FC;\n",
              "    }\n",
              "\n",
              "    [theme=dark] .colab-df-convert:hover {\n",
              "      background-color: #434B5C;\n",
              "      box-shadow: 0px 1px 3px 1px rgba(0, 0, 0, 0.15);\n",
              "      filter: drop-shadow(0px 1px 2px rgba(0, 0, 0, 0.3));\n",
              "      fill: #FFFFFF;\n",
              "    }\n",
              "  </style>\n",
              "\n",
              "      <script>\n",
              "        const buttonEl =\n",
              "          document.querySelector('#df-015e1a7b-d68b-4053-8f65-399ed599c5e7 button.colab-df-convert');\n",
              "        buttonEl.style.display =\n",
              "          google.colab.kernel.accessAllowed ? 'block' : 'none';\n",
              "\n",
              "        async function convertToInteractive(key) {\n",
              "          const element = document.querySelector('#df-015e1a7b-d68b-4053-8f65-399ed599c5e7');\n",
              "          const dataTable =\n",
              "            await google.colab.kernel.invokeFunction('convertToInteractive',\n",
              "                                                     [key], {});\n",
              "          if (!dataTable) return;\n",
              "\n",
              "          const docLinkHtml = 'Like what you see? Visit the ' +\n",
              "            '<a target=\"_blank\" href=https://colab.research.google.com/notebooks/data_table.ipynb>data table notebook</a>'\n",
              "            + ' to learn more about interactive tables.';\n",
              "          element.innerHTML = '';\n",
              "          dataTable['output_type'] = 'display_data';\n",
              "          await google.colab.output.renderOutput(dataTable, element);\n",
              "          const docLink = document.createElement('div');\n",
              "          docLink.innerHTML = docLinkHtml;\n",
              "          element.appendChild(docLink);\n",
              "        }\n",
              "      </script>\n",
              "    </div>\n",
              "  </div>\n",
              "  "
            ]
          },
          "metadata": {},
          "execution_count": 34
        }
      ]
    },
    {
      "cell_type": "markdown",
      "source": [
        "Preview the last 3 rows"
      ],
      "metadata": {
        "id": "XCghkJ3y7Qwd"
      }
    },
    {
      "cell_type": "code",
      "source": [
        "df.tail(3)"
      ],
      "metadata": {
        "colab": {
          "base_uri": "https://localhost:8080/",
          "height": 205
        },
        "id": "fcxU9sII66NR",
        "outputId": "e9004bf6-4cdd-40c6-d8cc-20d17f552c28"
      },
      "execution_count": null,
      "outputs": [
        {
          "output_type": "execute_result",
          "data": {
            "text/plain": [
              "      PRODUCT  DRAW NUMBER  SEQUENCE NUMBER  DRAW DATE  NUMBER DRAWN 1  \\\n",
              "3662      649         3589                0  6/13/2018               6   \n",
              "3663      649         3590                0  6/16/2018               2   \n",
              "3664      649         3591                0  6/20/2018              14   \n",
              "\n",
              "      NUMBER DRAWN 2  NUMBER DRAWN 3  NUMBER DRAWN 4  NUMBER DRAWN 5  \\\n",
              "3662              22              24              31              32   \n",
              "3663              15              21              31              38   \n",
              "3664              24              31              35              37   \n",
              "\n",
              "      NUMBER DRAWN 6  BONUS NUMBER  \n",
              "3662              34            16  \n",
              "3663              49             8  \n",
              "3664              48            17  "
            ],
            "text/html": [
              "\n",
              "  <div id=\"df-f73a2a12-8651-4c9c-aaa5-2f6237edecd5\">\n",
              "    <div class=\"colab-df-container\">\n",
              "      <div>\n",
              "<style scoped>\n",
              "    .dataframe tbody tr th:only-of-type {\n",
              "        vertical-align: middle;\n",
              "    }\n",
              "\n",
              "    .dataframe tbody tr th {\n",
              "        vertical-align: top;\n",
              "    }\n",
              "\n",
              "    .dataframe thead th {\n",
              "        text-align: right;\n",
              "    }\n",
              "</style>\n",
              "<table border=\"1\" class=\"dataframe\">\n",
              "  <thead>\n",
              "    <tr style=\"text-align: right;\">\n",
              "      <th></th>\n",
              "      <th>PRODUCT</th>\n",
              "      <th>DRAW NUMBER</th>\n",
              "      <th>SEQUENCE NUMBER</th>\n",
              "      <th>DRAW DATE</th>\n",
              "      <th>NUMBER DRAWN 1</th>\n",
              "      <th>NUMBER DRAWN 2</th>\n",
              "      <th>NUMBER DRAWN 3</th>\n",
              "      <th>NUMBER DRAWN 4</th>\n",
              "      <th>NUMBER DRAWN 5</th>\n",
              "      <th>NUMBER DRAWN 6</th>\n",
              "      <th>BONUS NUMBER</th>\n",
              "    </tr>\n",
              "  </thead>\n",
              "  <tbody>\n",
              "    <tr>\n",
              "      <th>3662</th>\n",
              "      <td>649</td>\n",
              "      <td>3589</td>\n",
              "      <td>0</td>\n",
              "      <td>6/13/2018</td>\n",
              "      <td>6</td>\n",
              "      <td>22</td>\n",
              "      <td>24</td>\n",
              "      <td>31</td>\n",
              "      <td>32</td>\n",
              "      <td>34</td>\n",
              "      <td>16</td>\n",
              "    </tr>\n",
              "    <tr>\n",
              "      <th>3663</th>\n",
              "      <td>649</td>\n",
              "      <td>3590</td>\n",
              "      <td>0</td>\n",
              "      <td>6/16/2018</td>\n",
              "      <td>2</td>\n",
              "      <td>15</td>\n",
              "      <td>21</td>\n",
              "      <td>31</td>\n",
              "      <td>38</td>\n",
              "      <td>49</td>\n",
              "      <td>8</td>\n",
              "    </tr>\n",
              "    <tr>\n",
              "      <th>3664</th>\n",
              "      <td>649</td>\n",
              "      <td>3591</td>\n",
              "      <td>0</td>\n",
              "      <td>6/20/2018</td>\n",
              "      <td>14</td>\n",
              "      <td>24</td>\n",
              "      <td>31</td>\n",
              "      <td>35</td>\n",
              "      <td>37</td>\n",
              "      <td>48</td>\n",
              "      <td>17</td>\n",
              "    </tr>\n",
              "  </tbody>\n",
              "</table>\n",
              "</div>\n",
              "      <button class=\"colab-df-convert\" onclick=\"convertToInteractive('df-f73a2a12-8651-4c9c-aaa5-2f6237edecd5')\"\n",
              "              title=\"Convert this dataframe to an interactive table.\"\n",
              "              style=\"display:none;\">\n",
              "        \n",
              "  <svg xmlns=\"http://www.w3.org/2000/svg\" height=\"24px\"viewBox=\"0 0 24 24\"\n",
              "       width=\"24px\">\n",
              "    <path d=\"M0 0h24v24H0V0z\" fill=\"none\"/>\n",
              "    <path d=\"M18.56 5.44l.94 2.06.94-2.06 2.06-.94-2.06-.94-.94-2.06-.94 2.06-2.06.94zm-11 1L8.5 8.5l.94-2.06 2.06-.94-2.06-.94L8.5 2.5l-.94 2.06-2.06.94zm10 10l.94 2.06.94-2.06 2.06-.94-2.06-.94-.94-2.06-.94 2.06-2.06.94z\"/><path d=\"M17.41 7.96l-1.37-1.37c-.4-.4-.92-.59-1.43-.59-.52 0-1.04.2-1.43.59L10.3 9.45l-7.72 7.72c-.78.78-.78 2.05 0 2.83L4 21.41c.39.39.9.59 1.41.59.51 0 1.02-.2 1.41-.59l7.78-7.78 2.81-2.81c.8-.78.8-2.07 0-2.86zM5.41 20L4 18.59l7.72-7.72 1.47 1.35L5.41 20z\"/>\n",
              "  </svg>\n",
              "      </button>\n",
              "      \n",
              "  <style>\n",
              "    .colab-df-container {\n",
              "      display:flex;\n",
              "      flex-wrap:wrap;\n",
              "      gap: 12px;\n",
              "    }\n",
              "\n",
              "    .colab-df-convert {\n",
              "      background-color: #E8F0FE;\n",
              "      border: none;\n",
              "      border-radius: 50%;\n",
              "      cursor: pointer;\n",
              "      display: none;\n",
              "      fill: #1967D2;\n",
              "      height: 32px;\n",
              "      padding: 0 0 0 0;\n",
              "      width: 32px;\n",
              "    }\n",
              "\n",
              "    .colab-df-convert:hover {\n",
              "      background-color: #E2EBFA;\n",
              "      box-shadow: 0px 1px 2px rgba(60, 64, 67, 0.3), 0px 1px 3px 1px rgba(60, 64, 67, 0.15);\n",
              "      fill: #174EA6;\n",
              "    }\n",
              "\n",
              "    [theme=dark] .colab-df-convert {\n",
              "      background-color: #3B4455;\n",
              "      fill: #D2E3FC;\n",
              "    }\n",
              "\n",
              "    [theme=dark] .colab-df-convert:hover {\n",
              "      background-color: #434B5C;\n",
              "      box-shadow: 0px 1px 3px 1px rgba(0, 0, 0, 0.15);\n",
              "      filter: drop-shadow(0px 1px 2px rgba(0, 0, 0, 0.3));\n",
              "      fill: #FFFFFF;\n",
              "    }\n",
              "  </style>\n",
              "\n",
              "      <script>\n",
              "        const buttonEl =\n",
              "          document.querySelector('#df-f73a2a12-8651-4c9c-aaa5-2f6237edecd5 button.colab-df-convert');\n",
              "        buttonEl.style.display =\n",
              "          google.colab.kernel.accessAllowed ? 'block' : 'none';\n",
              "\n",
              "        async function convertToInteractive(key) {\n",
              "          const element = document.querySelector('#df-f73a2a12-8651-4c9c-aaa5-2f6237edecd5');\n",
              "          const dataTable =\n",
              "            await google.colab.kernel.invokeFunction('convertToInteractive',\n",
              "                                                     [key], {});\n",
              "          if (!dataTable) return;\n",
              "\n",
              "          const docLinkHtml = 'Like what you see? Visit the ' +\n",
              "            '<a target=\"_blank\" href=https://colab.research.google.com/notebooks/data_table.ipynb>data table notebook</a>'\n",
              "            + ' to learn more about interactive tables.';\n",
              "          element.innerHTML = '';\n",
              "          dataTable['output_type'] = 'display_data';\n",
              "          await google.colab.output.renderOutput(dataTable, element);\n",
              "          const docLink = document.createElement('div');\n",
              "          docLink.innerHTML = docLinkHtml;\n",
              "          element.appendChild(docLink);\n",
              "        }\n",
              "      </script>\n",
              "    </div>\n",
              "  </div>\n",
              "  "
            ]
          },
          "metadata": {},
          "execution_count": 35
        }
      ]
    },
    {
      "cell_type": "markdown",
      "source": [
        "## 5. Function for Historical Data Check"
      ],
      "metadata": {
        "id": "mIj2T79O3sWu"
      }
    },
    {
      "cell_type": "markdown",
      "source": [
        "We've focused on opening and exploring the Canada lottery data set. We're now going to write a function that will enable users to compare their ticket against the historical lottery data in Canada and determine whether they would have ever won by now.\n",
        "\n",
        "The engineering team told us that we need to be aware of the following details:\n",
        "\n",
        "* Inside the app, the user inputs six different numbers from 1 to 49.\n",
        "* Under the hood, the six numbers will come as a Python list and serve as an input to our function.\n",
        "* The engineering team wants us to write a function that prints the number of times the combination selected occurred in the Canada data set; and\n",
        "the probability of winning the big prize in the next drawing with that combination.\n",
        "\n",
        "We'll now start working on writing this function."
      ],
      "metadata": {
        "id": "fKd8JZKB3wNq"
      }
    },
    {
      "cell_type": "markdown",
      "source": [
        "Extract all the winning six numbers from the historical data set as Python sets"
      ],
      "metadata": {
        "id": "e60uuQZNF06S"
      }
    },
    {
      "cell_type": "code",
      "source": [
        "# this function takes as input a row of the lottery dataframe and returns a set containing all the six winning numbers\n",
        "def extract_numbers(row):\n",
        "  row = row[4:10]\n",
        "  numbers = set(row.values)\n",
        "  return numbers"
      ],
      "metadata": {
        "id": "Tkgofuk6Fpzj"
      },
      "execution_count": 119,
      "outputs": []
    },
    {
      "cell_type": "code",
      "source": [
        "# all winning numbers\n",
        "winning_numbers = df.apply(extract_numbers, axis=1)\n",
        "winning_numbers.head()"
      ],
      "metadata": {
        "colab": {
          "base_uri": "https://localhost:8080/"
        },
        "id": "-jtvi-IxNf71",
        "outputId": "dbb79b5c-5893-4708-c5dd-a1ef427bc705"
      },
      "execution_count": 120,
      "outputs": [
        {
          "output_type": "execute_result",
          "data": {
            "text/plain": [
              "0    {3, 41, 11, 12, 43, 14}\n",
              "1    {33, 36, 37, 39, 8, 41}\n",
              "2     {1, 6, 39, 23, 24, 27}\n",
              "3     {3, 9, 10, 43, 13, 20}\n",
              "4    {34, 5, 14, 47, 21, 31}\n",
              "dtype: object"
            ]
          },
          "metadata": {},
          "execution_count": 120
        }
      ]
    },
    {
      "cell_type": "markdown",
      "source": [
        "Check whether a certain combination has occurred in the Canada lottery data set and compute the probability of winning"
      ],
      "metadata": {
        "id": "9jy2u20MG5Y9"
      }
    },
    {
      "cell_type": "code",
      "source": [
        "'''\n",
        "This function takes in two inputs: a Python list containing the user numbers and a pandas Series containing sets with \n",
        "the winning numbers (this is the Series you'll extract using the extract_numbers() function)\n",
        "'''\n",
        "\n",
        "def check_historical_occurence(user_numbers, winning_numbers):\n",
        "  # convert the user numbers list to a set\n",
        "  user_numbers = set(user_numbers)\n",
        "\n",
        "  # check if the user combination exists in the winning numbers\n",
        "  matches = user_numbers == winning_numbers\n",
        "  win_count = matches.sum()\n",
        "\n",
        "  # get the total possible outcomes\n",
        "  outcomes = combinations(49,6)\n",
        "\n",
        "  # compute the probability of winning\n",
        "  win_probability = (1 / outcomes) * 100\n",
        "\n",
        "  if win_count == 0:\n",
        "    print(\"Combination {} not found in history database. You have a {:.8f}% chance of winning with this combination.\".format(user_numbers, win_probability))\n",
        "  else:\n",
        "    print(\"Combination {} found in history database. You have a {:.8f}% chance of winning with this combination.\".format(user_numbers, win_probability))"
      ],
      "metadata": {
        "id": "CeziHf3KG8cU"
      },
      "execution_count": 131,
      "outputs": []
    },
    {
      "cell_type": "code",
      "source": [
        "draw_one = {1, 9, 39, 23, 24, 27}\n",
        "\n",
        "check_historical_occurence (draw_one, winning_numbers)"
      ],
      "metadata": {
        "colab": {
          "base_uri": "https://localhost:8080/"
        },
        "id": "zxToxnhrPwy7",
        "outputId": "6b73cdf1-4592-48f7-ec13-73252f7e78c0"
      },
      "execution_count": 132,
      "outputs": [
        {
          "output_type": "stream",
          "name": "stdout",
          "text": [
            "Combination {1, 23, 39, 24, 9, 27} not found in history database. You have a 0.00000715% chance of winning with this combination.\n"
          ]
        }
      ]
    },
    {
      "cell_type": "code",
      "source": [
        "draw_two = {34, 5, 14, 47, 21, 31}\n",
        "\n",
        "check_historical_occurence (draw_two, winning_numbers)"
      ],
      "metadata": {
        "colab": {
          "base_uri": "https://localhost:8080/"
        },
        "id": "0P-iaHLnQJs7",
        "outputId": "4244ae46-dedd-4f5e-bbac-167bda4e8bdb"
      },
      "execution_count": 133,
      "outputs": [
        {
          "output_type": "stream",
          "name": "stdout",
          "text": [
            "Combination {34, 5, 21, 31, 14, 47} found in history database. You have a 0.00000715% chance of winning with this combination.\n"
          ]
        }
      ]
    },
    {
      "cell_type": "markdown",
      "source": [
        "## 6. Multi-ticket Probability"
      ],
      "metadata": {
        "id": "DjHxdsHO4pfU"
      }
    },
    {
      "cell_type": "markdown",
      "source": [
        "Lottery addicts usually play more than one ticket on a single drawing, thinking that this might increase their chances of winning significantly. Our purpose is to help them better estimate their chances of winning — we're now going to write a function that will allow the users to calculate the chances of winning for any number of different tickets.\n",
        "\n",
        "We've talked with the engineering team and they gave us the following information:\n",
        "\n",
        "* The user will input the number of different tickets they want to play (without inputting the specific combinations they intend to play).\n",
        "* Our function will see an integer between 1 and 13,983,816 (the maximum number of different tickets).\n",
        "* The function should print information about the probability of winning the big prize depending on the number of different tickets played.\n",
        "\n",
        "Let's now start writing this function."
      ],
      "metadata": {
        "id": "9Lc-A9lV4tKC"
      }
    },
    {
      "cell_type": "markdown",
      "source": [
        "A function that computes the probability of winning the big prize depending on the number of different tickets played"
      ],
      "metadata": {
        "id": "ExIJ4fvhYyk0"
      }
    },
    {
      "cell_type": "code",
      "source": [
        "\n",
        "def multi_ticket_probability(n):\n",
        "  # total number of possible outcomes\n",
        "  possible_outcomes = combinations(49,6)\n",
        "\n",
        "  # compute probability of winning given the number of tickets\n",
        "  prob = (n / possible_outcomes) * 100\n",
        "\n",
        "  print(\"Probability of winning: {:8f}%\".format(prob))\n"
      ],
      "metadata": {
        "id": "tcZOK6wv5QZa"
      },
      "execution_count": 137,
      "outputs": []
    },
    {
      "cell_type": "markdown",
      "source": [
        "Testing the function"
      ],
      "metadata": {
        "id": "cQvO7-SEYnt1"
      }
    },
    {
      "cell_type": "code",
      "source": [
        "multi_ticket_probability(100)"
      ],
      "metadata": {
        "colab": {
          "base_uri": "https://localhost:8080/"
        },
        "id": "P-bS_xs2YRkB",
        "outputId": "ac5ccb86-f5ce-4236-c1e5-c9f19bfde2d3"
      },
      "execution_count": 138,
      "outputs": [
        {
          "output_type": "stream",
          "name": "stdout",
          "text": [
            "Probability of winning: 0.000715%\n"
          ]
        }
      ]
    },
    {
      "cell_type": "code",
      "source": [
        "multi_ticket_probability(6991908)"
      ],
      "metadata": {
        "colab": {
          "base_uri": "https://localhost:8080/"
        },
        "id": "e5q5aPQfY-w6",
        "outputId": "a8e572e0-d2d3-4577-960e-cd2e71b901d3"
      },
      "execution_count": 140,
      "outputs": [
        {
          "output_type": "stream",
          "name": "stdout",
          "text": [
            "Probability of winning: 50.000000%\n"
          ]
        }
      ]
    },
    {
      "cell_type": "code",
      "source": [
        "multi_ticket_probability(13983816)"
      ],
      "metadata": {
        "colab": {
          "base_uri": "https://localhost:8080/"
        },
        "id": "PZqfMIWPYqHm",
        "outputId": "a314f50a-2092-49cd-9ef6-d537067a4e39"
      },
      "execution_count": 139,
      "outputs": [
        {
          "output_type": "stream",
          "name": "stdout",
          "text": [
            "Probability of winning: 100.000000%\n"
          ]
        }
      ]
    },
    {
      "cell_type": "markdown",
      "source": [
        "## 7. Less Winning Numbers - Function"
      ],
      "metadata": {
        "id": "6we3E3zt5a00"
      }
    },
    {
      "cell_type": "markdown",
      "source": [
        "We're going to write one more function to allow the users to calculate probabilities for two, three, four, or five winning numbers.\n",
        "\n",
        "For extra context, in most 6/49 lotteries there are smaller prizes if a player's ticket match two, three, four, or five of the six numbers drawn. As a consequence, the users might be interested in knowing the probability of having two, three, four, or five winning numbers.\n",
        "\n",
        "These are the engineering details we'll need to be aware of:\n",
        "\n",
        "* Inside the app, the user inputs:\n",
        "six different numbers from 1 to 49; and\n",
        "an integer between 2 and 5 that represents the number of winning numbers expected.\n",
        "* Our function prints information about the probability of having the inputted number of winning numbers.\n",
        "To help you code this function, we'll guide you through calculating the probability for having exactly five winning numbers. First, we need to differentiate between these two probability questions:\n",
        "\n",
        "* What is the probability of having exactly five winning numbers?\n",
        "* What is the probability of having at least five winning numbers?\n",
        "For our purposes here, we want to answer the first question.\n",
        "\n",
        "For the sake of example, let's say a player chose these six numbers on a ticket: (1, 2, 3, 4 ,5 ,6). Out of these six numbers, we can form six five-number combinations:\n",
        "```\n",
        "(1, 2, 3, 4, 5)\n",
        "(1, 2, 3, 4, 6)\n",
        "(1, 2, 3, 5, 6)\n",
        "(1, 2, 4, 5, 6)\n",
        "(1, 3, 4, 5, 6)\n",
        "(2, 3, 4, 5, 6)\n",
        "```\n",
        "We can also find the total number of five-number combinations.\n",
        "\n",
        "For each one of the six five-number combinations above, there are 44 possible successful outcomes in a lottery drawing. For the combination (1, 2, 3, 4, 5), for instance, there are 44 lottery outcomes that would return a prize:\n",
        "```\n",
        "(1, 2, 3, 4, 5, 6)\n",
        "(1, 2, 3, 4, 5, 7)\n",
        "...\n",
        "(1, 2, 3, 4, 5, 30)\n",
        "(1, 2, 3, 4, 5, 31)\n",
        "...\n",
        "(1, 2, 3, 4, 5, 49)\n",
        "```\n",
        "However, we need to leave out the outcome (1, 2, 3, 4, 5, 6) because we're only interested in outcomes that match exactly five numbers, not at least five numbers. This means that for each of our six five-number combinations we have 43 possible successful outcomes, not 44.\n",
        "\n",
        "Since there are six five-number combinations and each combination corresponds to 43 successful outcomes, we need to multiply 6 by 43 to find the total number of successful outcomes:\n",
        "```\n",
        "6 × 43 = 258\n",
        "```\n",
        "Since there are 258 successful outcomes and there are 13,983,816 total possible outcomes, the probability of having exactly five winning numbers for a single lottery ticket is:\n",
        "\n",
        "```\n",
        "P (5-winning numbers) = 258 (49 6) = 0.00001845\n",
        "```\n",
        "\n",
        "Now let's try to code the function. To calculate the probabilities, we tell the engineering team that the specific combination on the ticket is irrelevant behind the scenes, and we only need the integer between 2 and 5 representing the number of winning numbers expected."
      ],
      "metadata": {
        "id": "FVB7WXD95gTe"
      }
    },
    {
      "cell_type": "markdown",
      "source": [
        "Calculate the probability of having two, three, four or five winning numbers"
      ],
      "metadata": {
        "id": "GDO0VOgJqtSA"
      }
    },
    {
      "cell_type": "code",
      "source": [
        "def probability_less_6(n):\n",
        "  # compute number of n-number combinations\n",
        "  combinations_given_n = combinations(6, n)\n",
        "\n",
        "  # find the total number of successful outcomes\n",
        "  total_successful_outcomes = combinations_given_n * (49-n-1)\n",
        "\n",
        "  # find the total number of possible outcomes\n",
        "  total_possible_outcomes = combinations(49, 6)\n",
        "\n",
        "  # probability of having n winning numbers\n",
        "  prob_of_n_winning_numbers = total_successful_outcomes / total_possible_outcomes\n",
        "\n",
        "  print(\"{:8f}%\".format(prob_of_n_winning_numbers))"
      ],
      "metadata": {
        "id": "4jkhatCB668N"
      },
      "execution_count": 153,
      "outputs": []
    },
    {
      "cell_type": "markdown",
      "source": [
        "Test the function"
      ],
      "metadata": {
        "id": "tZ6K2M9yqd3g"
      }
    },
    {
      "cell_type": "code",
      "source": [
        "probability_less_6(5)"
      ],
      "metadata": {
        "colab": {
          "base_uri": "https://localhost:8080/"
        },
        "id": "rCWbsFGiqa65",
        "outputId": "7f5fe101-99f5-46e9-fd13-0e084bce5332"
      },
      "execution_count": 151,
      "outputs": [
        {
          "output_type": "stream",
          "name": "stdout",
          "text": [
            "0.000018%\n"
          ]
        }
      ]
    },
    {
      "cell_type": "code",
      "source": [
        "probability_less_6(4)"
      ],
      "metadata": {
        "colab": {
          "base_uri": "https://localhost:8080/"
        },
        "id": "GOQ90gfJqg82",
        "outputId": "1b6574e6-5f97-4af5-ac7e-a5569f36263f"
      },
      "execution_count": 152,
      "outputs": [
        {
          "output_type": "stream",
          "name": "stdout",
          "text": [
            "0.000047%\n"
          ]
        }
      ]
    },
    {
      "cell_type": "markdown",
      "source": [
        "## 8. Next Steps"
      ],
      "metadata": {
        "id": "u5PklErZ7FQ3"
      }
    },
    {
      "cell_type": "markdown",
      "source": [
        "Possible features for a second version of the app include:\n",
        "\n",
        "* Making the outputs even easier to understand by adding fun analogies (for example, we can find probabilities for strange events and compare with the chances of winning in lottery; for instance, we can output something along the lines \"You are 100 times more likely to be the victim of a shark attack than winning the lottery\").\n",
        "* Combining the `one_ticket_probability()` and `check_historical_occurrence()` to output information on probability and historical occurrence at the same time.\n",
        "* Creating a function similar to `probability_less_6()` which calculates the probability of having at least two, three, four or five winning numbers. Hint: the number of successful outcomes for having at least four winning numbers is the sum of these three numbers: The number of successful outcomes for having four winning numbers exactly, the number of successful outcomes for having five winning numbers exactly, the number of successful outcomes for having six winning numbers exactly."
      ],
      "metadata": {
        "id": "hxy3aaQI7IwE"
      }
    }
  ]
}